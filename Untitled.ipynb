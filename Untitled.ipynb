{
 "cells": [
  {
   "cell_type": "code",
   "execution_count": 21,
   "metadata": {},
   "outputs": [],
   "source": [
    "import tensorflow as tf\n",
    "import numpy as np"
   ]
  },
  {
   "cell_type": "code",
   "execution_count": 2,
   "metadata": {},
   "outputs": [
    {
     "name": "stdout",
     "output_type": "stream",
     "text": [
      "\u001b[0m\u001b[01;34mbackup\u001b[0m/                  ratings.txt  synopses.json    Untitled1.ipynb\n",
      "\u001b[01;34mcode\u001b[0m/                    \u001b[01;34mraw\u001b[0m/         test_docs.json   Untitled.ipynb\n",
      "NanumGothic-Regular.ttf  README.md    text_cnn.py      \u001b[01;34mutil\u001b[0m/\n",
      "ratings_test.txt         sample.txt   text_cnn.py~\n",
      "ratings_train.txt        sample.txt~  train_docs.json\n"
     ]
    }
   ],
   "source": [
    "ls"
   ]
  },
  {
   "cell_type": "code",
   "execution_count": 3,
   "metadata": {},
   "outputs": [],
   "source": [
    "work_dir = '/home/beomgon2/medical_chart/movie/nsmc/'"
   ]
  },
  {
   "cell_type": "code",
   "execution_count": 32,
   "metadata": {},
   "outputs": [],
   "source": [
    "def read_data(filename):\n",
    "    with open(filename, 'r') as f:\n",
    "        data = [line.split('\\t') for line in f.read().splitlines()]\n",
    "        # txt 파일의 헤더(id document label)는 제외하기\n",
    "        data = data[1:]\n",
    "    return data\n",
    "\n",
    "train_data = read_data(work_dir + 'ratings_train.txt')\n",
    "test_data = read_data(work_dir + 'ratings_test.txt')\n",
    "sample_data = read_data(work_dir + 'sample.txt')"
   ]
  },
  {
   "cell_type": "code",
   "execution_count": 18,
   "metadata": {},
   "outputs": [
    {
     "data": {
      "text/plain": [
       "['9976970', '아 더빙.. 진짜 짜증나네요 목소리', '0']"
      ]
     },
     "execution_count": 18,
     "metadata": {},
     "output_type": "execute_result"
    }
   ],
   "source": [
    "(train_data)[0]"
   ]
  },
  {
   "cell_type": "code",
   "execution_count": 35,
   "metadata": {},
   "outputs": [],
   "source": [
    "import json\n",
    "import os\n",
    "from pprint import pprint\n",
    "import csv\n",
    "\n",
    "train_data1 = [ (x[1], x[2]) for x in train_data]\n",
    "test_data1 = [ (x[1], x[2]) for x in test_data]\n",
    "sample_data1 = [ (x[1], x[2]) for x in sample_data]\n",
    "\n",
    "\n",
    "\n",
    "FIELDNAMES = ['document', 'label']\n",
    "if os.path.isfile(work_dir + 'sample1.csv'):\n",
    "    pass\n",
    "else :\n",
    "\n",
    "    with open(work_dir + 'sample.csv', 'w', encoding=\"utf-8\") as make_file:\n",
    "        writer = csv.DictWriter(make_file, fieldnames=FIELDNAMES)\n",
    "        writer.writeheader()\n",
    "        for document, label in sample_data1 :\n",
    "              writer.writerow({'document':document, 'label': label})  \n",
    "    with open(work_dir + 'train.csv', 'w', encoding=\"utf-8\") as make_file:\n",
    "        writer = csv.DictWriter(make_file, fieldnames=FIELDNAMES)\n",
    "        writer.writeheader()\n",
    "        for document, label in train_data1 :\n",
    "              writer.writerow({'document':document, 'label': label})  \n",
    "    with open(work_dir + 'test.csv', 'w', encoding=\"utf-8\") as make_file:\n",
    "        writer = csv.DictWriter(make_file, fieldnames=FIELDNAMES)\n",
    "        writer.writeheader()\n",
    "        for document, label in test_data1 :\n",
    "              writer.writerow({'document':document, 'label': label})                  "
   ]
  },
  {
   "cell_type": "code",
   "execution_count": null,
   "metadata": {},
   "outputs": [],
   "source": []
  },
  {
   "cell_type": "code",
   "execution_count": 65,
   "metadata": {},
   "outputs": [
    {
     "name": "stdout",
     "output_type": "stream",
     "text": [
      "['영화', '영화포스터', '포스터']\n"
     ]
    }
   ],
   "source": [
    "from konlpy.tag import Kkma\n",
    "from konlpy.utils import pprint\n",
    "\n",
    "kkma = Kkma()\n",
    "result = pprint(kkma.nouns(u'영화포스터.'))"
   ]
  },
  {
   "cell_type": "code",
   "execution_count": 68,
   "metadata": {},
   "outputs": [],
   "source": [
    "from konlpy.tag import Okt\n",
    "okt = Okt()"
   ]
  },
  {
   "cell_type": "code",
   "execution_count": 94,
   "metadata": {},
   "outputs": [
    {
     "data": {
      "text/plain": [
       "[('영화포스터', 'Noun')]"
      ]
     },
     "execution_count": 94,
     "metadata": {},
     "output_type": "execute_result"
    }
   ],
   "source": [
    "okt.pos('영화포스터')"
   ]
  },
  {
   "cell_type": "code",
   "execution_count": null,
   "metadata": {},
   "outputs": [],
   "source": [
    "[x[0] for x in result]"
   ]
  },
  {
   "cell_type": "code",
   "execution_count": null,
   "metadata": {},
   "outputs": [],
   "source": [
    "[x[0] for x in result if x[1] != 'EPT' and x[1] != 'ETD' and x[1] != 'ECS' and x[1] != 'ECE' and x[1] != 'ECD']"
   ]
  },
  {
   "cell_type": "code",
   "execution_count": 104,
   "metadata": {},
   "outputs": [],
   "source": [
    "import json\n",
    "import os\n",
    "from pprint import pprint\n",
    "import csv\n",
    "\n",
    "FIELDNAMES = ['transcript', 'score']\n",
    "def tokenize(doc):\n",
    "    # norm은 정규화, stem은 근어로 표시하기를 나타냄\n",
    "    return [t[0] for t in okt.pos(doc, norm=True, stem=True)]\n",
    "\n",
    "if os.path.isfile(work_dir + 'sample1.csv'):\n",
    "    pass\n",
    "#     with open(work_dir + 'train_docs.csv') as f:\n",
    "#         train_docs = json.load(f)\n",
    "#     with open(work_dir + 'test_docs.csv') as f:\n",
    "#         test_docs = json.load(f)\n",
    "else:\n",
    "    sample_docs = [(str(tokenize(row[1])), row[2]) for row in sample_data]\n",
    "#     train_docs = [(tokenize(row[1]), row[2]) for row in train_data]\n",
    "#     test_docs = [(tokenize(row[1]), row[2]) for row in test_data]\n",
    "    #csv 파일로 저장\n",
    "    with open(work_dir + 'sample.csv', 'w', encoding=\"utf-8\") as make_file:\n",
    "        writer = csv.DictWriter(make_file, fieldnames=FIELDNAMES)\n",
    "        writer.writeheader()\n",
    "        for _, transcript, score in sample_data :\n",
    "              writer.writerow({'transcript':tokenize(transcript), 'score': score})    \n",
    "    with open(work_dir + 'train_docs.csv', 'w', encoding=\"utf-8\") as make_file:\n",
    "        writer = csv.DictWriter(make_file, fieldnames=FIELDNAMES)\n",
    "        writer.writeheader()\n",
    "        for _, transcript, score in train_data :\n",
    "              writer.writerow({'transcript':tokenize(transcript), 'score': score})\n",
    "    with open(work_dir + 'test_docs.csv', 'w', encoding=\"utf-8\") as make_file:\n",
    "        writer = csv.DictWriter(make_file, fieldnames=FIELDNAMES)\n",
    "        writer.writeheader()\n",
    "        for _, transcript, score in test_data :\n",
    "              writer.writerow({'transcript':tokenize(transcript), 'score': score})"
   ]
  },
  {
   "cell_type": "code",
   "execution_count": 87,
   "metadata": {},
   "outputs": [
    {
     "data": {
      "text/plain": [
       "[(['아', '더빙', '..', '진짜', '짜증나다', '목소리'], '0'),\n",
       " (['흠',\n",
       "   '...',\n",
       "   '포스터',\n",
       "   '보고',\n",
       "   '초딩',\n",
       "   '영화',\n",
       "   '줄',\n",
       "   '....',\n",
       "   '오버',\n",
       "   '연기',\n",
       "   '조차',\n",
       "   '가볍다',\n",
       "   '않다'],\n",
       "  '1'),\n",
       " (['너', '무재', '밓었', '다그', '래서', '보다', '추천', '한', '다'], '0'),\n",
       " (['교도소', '이야기', '구먼', '..', '솔직하다', '재미', '는', '없다', '..', '평점', '조정'], '0'),\n",
       " (['사이',\n",
       "   '몬페',\n",
       "   '그',\n",
       "   '의',\n",
       "   '익살스럽다',\n",
       "   '연기',\n",
       "   '가',\n",
       "   '돋보이다',\n",
       "   '영화',\n",
       "   '!',\n",
       "   '스파이더맨',\n",
       "   '에서',\n",
       "   '늙다',\n",
       "   '보이다',\n",
       "   '하다',\n",
       "   '커스틴',\n",
       "   '던스트',\n",
       "   '가',\n",
       "   '너무나도',\n",
       "   '이쁘다',\n",
       "   '보이다'],\n",
       "  '1'),\n",
       " (['막',\n",
       "   '걸음',\n",
       "   '마',\n",
       "   '떼다',\n",
       "   '3',\n",
       "   '세',\n",
       "   '부터',\n",
       "   '초등학교',\n",
       "   '1',\n",
       "   '학년',\n",
       "   '생인',\n",
       "   '8',\n",
       "   '살다',\n",
       "   '영화',\n",
       "   '.',\n",
       "   'ㅋㅋㅋ',\n",
       "   '...',\n",
       "   '별',\n",
       "   '반개',\n",
       "   '도',\n",
       "   '아깝다',\n",
       "   '움',\n",
       "   '.'],\n",
       "  '0'),\n",
       " (['원작', '의', '긴장감', '을', '제대로', '살리다', '하다', '.'], '0'),\n",
       " (['별',\n",
       "   '반개',\n",
       "   '도',\n",
       "   '아깝다',\n",
       "   '욕',\n",
       "   '나오다',\n",
       "   '이응경',\n",
       "   '길용우',\n",
       "   '연',\n",
       "   '기',\n",
       "   '생활',\n",
       "   '이',\n",
       "   '몇',\n",
       "   '년',\n",
       "   '인지',\n",
       "   '..',\n",
       "   '정말',\n",
       "   '발',\n",
       "   '로',\n",
       "   '해도',\n",
       "   '그것',\n",
       "   '보단',\n",
       "   '낫다',\n",
       "   '납치',\n",
       "   '.',\n",
       "   '감금',\n",
       "   '만',\n",
       "   '반복',\n",
       "   '반복',\n",
       "   '..',\n",
       "   '이',\n",
       "   '드라마',\n",
       "   '는',\n",
       "   '가족',\n",
       "   '도',\n",
       "   '없다',\n",
       "   '연기',\n",
       "   '못',\n",
       "   '하다',\n",
       "   '사람',\n",
       "   '만',\n",
       "   '모',\n",
       "   '엿',\n",
       "   '네'],\n",
       "  '0'),\n",
       " (['액션', '이', '없다', '재미', '있다', '몇', '안되다', '영화'], '1'),\n",
       " (['왜',\n",
       "   '이렇게',\n",
       "   '평점',\n",
       "   '이',\n",
       "   '낮다',\n",
       "   '?',\n",
       "   '꽤',\n",
       "   '볼',\n",
       "   '만',\n",
       "   '한',\n",
       "   '데',\n",
       "   '..',\n",
       "   '헐리우드',\n",
       "   '식',\n",
       "   '화려하다',\n",
       "   '너무',\n",
       "   '길들이다',\n",
       "   '있다',\n",
       "   '?'],\n",
       "  '1'),\n",
       " (['걍', '인피니트', '가', '짱', '이다', '.', '진짜', '짱', '이다', '♥'], '1'),\n",
       " (['볼때',\n",
       "   '마다',\n",
       "   '눈물나다',\n",
       "   '죽다',\n",
       "   '90년',\n",
       "   '대의',\n",
       "   '향수',\n",
       "   '자극',\n",
       "   '!!',\n",
       "   '허진호',\n",
       "   '는',\n",
       "   '감성',\n",
       "   '절제',\n",
       "   '멜로',\n",
       "   '의',\n",
       "   '달인',\n",
       "   '이다',\n",
       "   '~'],\n",
       "  '1'),\n",
       " (['울면',\n",
       "   '서',\n",
       "   '손',\n",
       "   '들',\n",
       "   '고',\n",
       "   '횡단보도',\n",
       "   '건너다',\n",
       "   '때',\n",
       "   '뛰다',\n",
       "   '치다',\n",
       "   '올',\n",
       "   '뻔',\n",
       "   '이범수',\n",
       "   '연기',\n",
       "   '드럽다',\n",
       "   '못',\n",
       "   '하다'],\n",
       "  '0'),\n",
       " (['담백하다',\n",
       "   '깔끔하다',\n",
       "   '좋다',\n",
       "   '.',\n",
       "   '신',\n",
       "   '문',\n",
       "   '기',\n",
       "   '사',\n",
       "   '로만',\n",
       "   '보다',\n",
       "   '보다',\n",
       "   '자꾸',\n",
       "   '잊어버리다',\n",
       "   '.',\n",
       "   '그',\n",
       "   '들',\n",
       "   '도',\n",
       "   '사람',\n",
       "   '이다',\n",
       "   '것',\n",
       "   '을',\n",
       "   '.'],\n",
       "  '1'),\n",
       " (['취향',\n",
       "   '은',\n",
       "   '존중',\n",
       "   '한',\n",
       "   '다지',\n",
       "   '만',\n",
       "   '진짜',\n",
       "   '내생',\n",
       "   '에',\n",
       "   '극장',\n",
       "   '에서',\n",
       "   '보다',\n",
       "   '영화',\n",
       "   '중',\n",
       "   '가장',\n",
       "   '노잼',\n",
       "   '노',\n",
       "   '감동',\n",
       "   '임',\n",
       "   '스토리',\n",
       "   '도',\n",
       "   '어거지',\n",
       "   '고',\n",
       "   '감동',\n",
       "   '도',\n",
       "   '어거지'],\n",
       "  '0')]"
      ]
     },
     "execution_count": 87,
     "metadata": {},
     "output_type": "execute_result"
    }
   ],
   "source": []
  },
  {
   "cell_type": "code",
   "execution_count": 81,
   "metadata": {},
   "outputs": [],
   "source": [
    "sample_docs = [((row[1]), row[2]) for row in sample_data]"
   ]
  },
  {
   "cell_type": "code",
   "execution_count": 83,
   "metadata": {},
   "outputs": [
    {
     "data": {
      "text/plain": [
       "['아', '더빙', '..', '진짜', '짜증나다', '목소리']"
      ]
     },
     "execution_count": 83,
     "metadata": {},
     "output_type": "execute_result"
    }
   ],
   "source": [
    "[t[0] for t in okt.pos('아 더빙.. 진짜 짜증나네요 목소리', norm=True, stem=True)]"
   ]
  },
  {
   "cell_type": "code",
   "execution_count": 82,
   "metadata": {},
   "outputs": [
    {
     "data": {
      "text/plain": [
       "[('아 더빙.. 진짜 짜증나네요 목소리', '0'),\n",
       " ('흠...포스터보고 초딩영화줄....오버연기조차 가볍지 않구나', '1'),\n",
       " ('너무재밓었다그래서보는것을추천한다', '0'),\n",
       " ('교도소 이야기구먼 ..솔직히 재미는 없다..평점 조정', '0'),\n",
       " ('사이몬페그의 익살스런 연기가 돋보였던 영화!스파이더맨에서 늙어보이기만 했던 커스틴 던스트가 너무나도 이뻐보였다', '1'),\n",
       " ('막 걸음마 뗀 3세부터 초등학교 1학년생인 8살용영화.ㅋㅋㅋ...별반개도 아까움.', '0'),\n",
       " ('원작의 긴장감을 제대로 살려내지못했다.', '0'),\n",
       " ('별 반개도 아깝다 욕나온다 이응경 길용우 연기생활이몇년인지..정말 발로해도 그것보단 낫겟다 납치.감금만반복반복..이드라마는 가족도없다 연기못하는사람만모엿네',\n",
       "  '0'),\n",
       " ('액션이 없는데도 재미 있는 몇안되는 영화', '1'),\n",
       " ('왜케 평점이 낮은건데? 꽤 볼만한데.. 헐리우드식 화려함에만 너무 길들여져 있나?', '1'),\n",
       " ('걍인피니트가짱이다.진짜짱이다♥', '1'),\n",
       " ('볼때마다 눈물나서 죽겠다90년대의 향수자극!!허진호는 감성절제멜로의 달인이다~', '1'),\n",
       " ('울면서 손들고 횡단보도 건널때 뛰쳐나올뻔 이범수 연기 드럽게못해', '0'),\n",
       " ('담백하고 깔끔해서 좋다. 신문기사로만 보다 보면 자꾸 잊어버린다. 그들도 사람이었다는 것을.', '1'),\n",
       " ('취향은 존중한다지만 진짜 내생에 극장에서 본 영화중 가장 노잼 노감동임 스토리도 어거지고 감동도 어거지', '0')]"
      ]
     },
     "execution_count": 82,
     "metadata": {},
     "output_type": "execute_result"
    }
   ],
   "source": [
    "sample_docs"
   ]
  },
  {
   "cell_type": "code",
   "execution_count": null,
   "metadata": {},
   "outputs": [],
   "source": []
  },
  {
   "cell_type": "code",
   "execution_count": null,
   "metadata": {},
   "outputs": [],
   "source": []
  },
  {
   "cell_type": "code",
   "execution_count": 74,
   "metadata": {},
   "outputs": [
    {
     "data": {
      "text/plain": [
       "['액션', '이', '없다', '재미', '있다', '몇', '안되다', '영화']"
      ]
     },
     "execution_count": 74,
     "metadata": {},
     "output_type": "execute_result"
    }
   ],
   "source": [
    "[t[0] for t in okt.pos('액션이 없는데도 재미 있는 몇안되는 영화', norm=True, stem=True)]"
   ]
  },
  {
   "cell_type": "code",
   "execution_count": null,
   "metadata": {},
   "outputs": [],
   "source": []
  }
 ],
 "metadata": {
  "kernelspec": {
   "display_name": "Python 3",
   "language": "python",
   "name": "python3"
  },
  "language_info": {
   "codemirror_mode": {
    "name": "ipython",
    "version": 3
   },
   "file_extension": ".py",
   "mimetype": "text/x-python",
   "name": "python",
   "nbconvert_exporter": "python",
   "pygments_lexer": "ipython3",
   "version": "3.6.9"
  }
 },
 "nbformat": 4,
 "nbformat_minor": 4
}
